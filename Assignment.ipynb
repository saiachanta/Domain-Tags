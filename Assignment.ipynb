{
 "cells": [
  {
   "cell_type": "code",
   "execution_count": 1,
   "id": "63ea1b70",
   "metadata": {},
   "outputs": [],
   "source": [
    "#Imported Libaries\n",
    "import pandas as pd\n",
    "import numpy as np\n",
    "import warnings\n",
    "warnings.filterwarnings('ignore')"
   ]
  },
  {
   "cell_type": "code",
   "execution_count": 2,
   "id": "8f5b2835",
   "metadata": {},
   "outputs": [],
   "source": [
    "#Reading Json File\n",
    "df = pd.read_json('domainTags2.json')"
   ]
  },
  {
   "cell_type": "code",
   "execution_count": 3,
   "id": "1591a249",
   "metadata": {},
   "outputs": [
    {
     "data": {
      "text/html": [
       "<div>\n",
       "<style scoped>\n",
       "    .dataframe tbody tr th:only-of-type {\n",
       "        vertical-align: middle;\n",
       "    }\n",
       "\n",
       "    .dataframe tbody tr th {\n",
       "        vertical-align: top;\n",
       "    }\n",
       "\n",
       "    .dataframe thead th {\n",
       "        text-align: right;\n",
       "    }\n",
       "</style>\n",
       "<table border=\"1\" class=\"dataframe\">\n",
       "  <thead>\n",
       "    <tr style=\"text-align: right;\">\n",
       "      <th></th>\n",
       "      <th>_id</th>\n",
       "      <th>tags</th>\n",
       "      <th>companyName</th>\n",
       "      <th>domainName</th>\n",
       "      <th>crunchbase_url</th>\n",
       "      <th>TYPE</th>\n",
       "      <th>UpdatedOn</th>\n",
       "      <th>companyDesc</th>\n",
       "      <th>companyWebsite</th>\n",
       "      <th>employeeNumber</th>\n",
       "      <th>foundedDate</th>\n",
       "      <th>domain_groups</th>\n",
       "      <th>fundingList</th>\n",
       "    </tr>\n",
       "  </thead>\n",
       "  <tbody>\n",
       "    <tr>\n",
       "      <th>0</th>\n",
       "      <td>{'$oid': '5d09dfd68501d21d7d729bb1'}</td>\n",
       "      <td>[finance, insurance]</td>\n",
       "      <td>[21st century insurance]</td>\n",
       "      <td>21st</td>\n",
       "      <td>https://www.crunchbase.com/organization/21st-c...</td>\n",
       "      <td>Product-based</td>\n",
       "      <td>{'$date': '2020-01-18T03:39:34.845Z'}</td>\n",
       "      <td>since 1958, 21st century insurance has been de...</td>\n",
       "      <td>www.21st.com</td>\n",
       "      <td>{'max': 10000, 'min': 5001}</td>\n",
       "      <td>{'$date': {'$numberLong': '-378658800000'}}</td>\n",
       "      <td>{'Fintech/ Payments': 0.825334256973911, 'Insu...</td>\n",
       "      <td>NaN</td>\n",
       "    </tr>\n",
       "    <tr>\n",
       "      <th>1</th>\n",
       "      <td>{'$oid': '5d09dfd78501d21d7d729bbb'}</td>\n",
       "      <td>[3d technology]</td>\n",
       "      <td>[3d networks]</td>\n",
       "      <td>3dnetworks</td>\n",
       "      <td>https://www.crunchbase.com/organization/3d-net...</td>\n",
       "      <td>Product-based</td>\n",
       "      <td>{'$date': '2020-01-20T15:10:33.852Z'}</td>\n",
       "      <td>NaN</td>\n",
       "      <td>www.3dnetworks.com</td>\n",
       "      <td>NaN</td>\n",
       "      <td>{'$date': '2000-01-01T09:00:00.000Z'}</td>\n",
       "      <td>NaN</td>\n",
       "      <td>NaN</td>\n",
       "    </tr>\n",
       "    <tr>\n",
       "      <th>2</th>\n",
       "      <td>{'$oid': '5d09dfd78501d21d7d729bbc'}</td>\n",
       "      <td>[3d technology, augmented reality, e-commerce]</td>\n",
       "      <td>[3dphy]</td>\n",
       "      <td>3dphy</td>\n",
       "      <td>https://www.crunchbase.com/organization/3dphy-...</td>\n",
       "      <td>Product-based</td>\n",
       "      <td>{'$date': '2020-01-16T11:44:30.116Z'}</td>\n",
       "      <td>3dphy provides a range of 3d virtual and augme...</td>\n",
       "      <td>www.3dphy.com</td>\n",
       "      <td>{'max': 50, 'min': 11}</td>\n",
       "      <td>{'$date': '2014-11-03T09:00:00.000Z'}</td>\n",
       "      <td>NaN</td>\n",
       "      <td>[{'fundingDate': {'$date': '2014-12-18T09:00:0...</td>\n",
       "    </tr>\n",
       "    <tr>\n",
       "      <th>3</th>\n",
       "      <td>{'$oid': '5d09dfd78501d21d7d729bbe'}</td>\n",
       "      <td>[android, enterprise software, mobile]</td>\n",
       "      <td>[3lm]</td>\n",
       "      <td>3lm</td>\n",
       "      <td>https://www.crunchbase.com/organization/3lm?ut...</td>\n",
       "      <td>Product-based</td>\n",
       "      <td>{'$date': '2020-01-21T12:50:14.767Z'}</td>\n",
       "      <td>3lm has already signed deals to provide its te...</td>\n",
       "      <td>www.3lm.com</td>\n",
       "      <td>{'max': 50, 'min': 11}</td>\n",
       "      <td>{'$date': '2010-07-01T09:00:00.000Z'}</td>\n",
       "      <td>{'Developer Tools': 0.617930901407716}</td>\n",
       "      <td>[{'fundingDate': {'$date': '2010-07-01T09:00:0...</td>\n",
       "    </tr>\n",
       "    <tr>\n",
       "      <th>4</th>\n",
       "      <td>{'$oid': '5d09dfd78501d21d7d729bbf'}</td>\n",
       "      <td>[automotive, electronics, enterprise software]</td>\n",
       "      <td>[3m]</td>\n",
       "      <td>3m</td>\n",
       "      <td>https://www.crunchbase.com/organization/3m?utm...</td>\n",
       "      <td>Product-based</td>\n",
       "      <td>{'$date': '2020-01-17T17:56:53.792Z'}</td>\n",
       "      <td>3m operates as a diversified technology compan...</td>\n",
       "      <td>www.3m.com</td>\n",
       "      <td>{'max': 10001, 'min': 0}</td>\n",
       "      <td>{'$date': {'$numberLong': '-2145884400000'}}</td>\n",
       "      <td>{'Hardware': 0.6879067738004571, 'Automotive':...</td>\n",
       "      <td>NaN</td>\n",
       "    </tr>\n",
       "  </tbody>\n",
       "</table>\n",
       "</div>"
      ],
      "text/plain": [
       "                                    _id  \\\n",
       "0  {'$oid': '5d09dfd68501d21d7d729bb1'}   \n",
       "1  {'$oid': '5d09dfd78501d21d7d729bbb'}   \n",
       "2  {'$oid': '5d09dfd78501d21d7d729bbc'}   \n",
       "3  {'$oid': '5d09dfd78501d21d7d729bbe'}   \n",
       "4  {'$oid': '5d09dfd78501d21d7d729bbf'}   \n",
       "\n",
       "                                             tags               companyName  \\\n",
       "0                            [finance, insurance]  [21st century insurance]   \n",
       "1                                 [3d technology]             [3d networks]   \n",
       "2  [3d technology, augmented reality, e-commerce]                   [3dphy]   \n",
       "3          [android, enterprise software, mobile]                     [3lm]   \n",
       "4  [automotive, electronics, enterprise software]                      [3m]   \n",
       "\n",
       "   domainName                                     crunchbase_url  \\\n",
       "0        21st  https://www.crunchbase.com/organization/21st-c...   \n",
       "1  3dnetworks  https://www.crunchbase.com/organization/3d-net...   \n",
       "2       3dphy  https://www.crunchbase.com/organization/3dphy-...   \n",
       "3         3lm  https://www.crunchbase.com/organization/3lm?ut...   \n",
       "4          3m  https://www.crunchbase.com/organization/3m?utm...   \n",
       "\n",
       "            TYPE                              UpdatedOn  \\\n",
       "0  Product-based  {'$date': '2020-01-18T03:39:34.845Z'}   \n",
       "1  Product-based  {'$date': '2020-01-20T15:10:33.852Z'}   \n",
       "2  Product-based  {'$date': '2020-01-16T11:44:30.116Z'}   \n",
       "3  Product-based  {'$date': '2020-01-21T12:50:14.767Z'}   \n",
       "4  Product-based  {'$date': '2020-01-17T17:56:53.792Z'}   \n",
       "\n",
       "                                         companyDesc      companyWebsite  \\\n",
       "0  since 1958, 21st century insurance has been de...        www.21st.com   \n",
       "1                                                NaN  www.3dnetworks.com   \n",
       "2  3dphy provides a range of 3d virtual and augme...       www.3dphy.com   \n",
       "3  3lm has already signed deals to provide its te...         www.3lm.com   \n",
       "4  3m operates as a diversified technology compan...          www.3m.com   \n",
       "\n",
       "                employeeNumber                                   foundedDate  \\\n",
       "0  {'max': 10000, 'min': 5001}   {'$date': {'$numberLong': '-378658800000'}}   \n",
       "1                          NaN         {'$date': '2000-01-01T09:00:00.000Z'}   \n",
       "2       {'max': 50, 'min': 11}         {'$date': '2014-11-03T09:00:00.000Z'}   \n",
       "3       {'max': 50, 'min': 11}         {'$date': '2010-07-01T09:00:00.000Z'}   \n",
       "4     {'max': 10001, 'min': 0}  {'$date': {'$numberLong': '-2145884400000'}}   \n",
       "\n",
       "                                       domain_groups  \\\n",
       "0  {'Fintech/ Payments': 0.825334256973911, 'Insu...   \n",
       "1                                                NaN   \n",
       "2                                                NaN   \n",
       "3             {'Developer Tools': 0.617930901407716}   \n",
       "4  {'Hardware': 0.6879067738004571, 'Automotive':...   \n",
       "\n",
       "                                         fundingList  \n",
       "0                                                NaN  \n",
       "1                                                NaN  \n",
       "2  [{'fundingDate': {'$date': '2014-12-18T09:00:0...  \n",
       "3  [{'fundingDate': {'$date': '2010-07-01T09:00:0...  \n",
       "4                                                NaN  "
      ]
     },
     "execution_count": 3,
     "metadata": {},
     "output_type": "execute_result"
    }
   ],
   "source": [
    "# Printing the dataframe\n",
    "df.head()"
   ]
  },
  {
   "cell_type": "code",
   "execution_count": 4,
   "id": "aac64c65",
   "metadata": {},
   "outputs": [
    {
     "name": "stdout",
     "output_type": "stream",
     "text": [
      "<class 'pandas.core.frame.DataFrame'>\n",
      "RangeIndex: 7462 entries, 0 to 7461\n",
      "Data columns (total 13 columns):\n",
      " #   Column          Non-Null Count  Dtype \n",
      "---  ------          --------------  ----- \n",
      " 0   _id             7462 non-null   object\n",
      " 1   tags            7397 non-null   object\n",
      " 2   companyName     7462 non-null   object\n",
      " 3   domainName      7462 non-null   object\n",
      " 4   crunchbase_url  7462 non-null   object\n",
      " 5   TYPE            6097 non-null   object\n",
      " 6   UpdatedOn       7428 non-null   object\n",
      " 7   companyDesc     6247 non-null   object\n",
      " 8   companyWebsite  7336 non-null   object\n",
      " 9   employeeNumber  6604 non-null   object\n",
      " 10  foundedDate     6603 non-null   object\n",
      " 11  domain_groups   4406 non-null   object\n",
      " 12  fundingList     2140 non-null   object\n",
      "dtypes: object(13)\n",
      "memory usage: 758.0+ KB\n"
     ]
    }
   ],
   "source": [
    "# Information about the dataset\n",
    "df.info()"
   ]
  },
  {
   "cell_type": "code",
   "execution_count": 5,
   "id": "ec8bd6a7",
   "metadata": {},
   "outputs": [
    {
     "data": {
      "text/plain": [
       "_id                  0\n",
       "tags                65\n",
       "companyName          0\n",
       "domainName           0\n",
       "crunchbase_url       0\n",
       "TYPE              1365\n",
       "UpdatedOn           34\n",
       "companyDesc       1215\n",
       "companyWebsite     126\n",
       "employeeNumber     858\n",
       "foundedDate        859\n",
       "domain_groups     3056\n",
       "fundingList       5322\n",
       "dtype: int64"
      ]
     },
     "execution_count": 5,
     "metadata": {},
     "output_type": "execute_result"
    }
   ],
   "source": [
    "#Checking the null values in the dataframe\n",
    "df.isnull().sum()"
   ]
  },
  {
   "cell_type": "markdown",
   "id": "f6dec425",
   "metadata": {},
   "source": [
    "#### Handing Missing Values "
   ]
  },
  {
   "cell_type": "code",
   "execution_count": 6,
   "id": "84d47eb7",
   "metadata": {},
   "outputs": [
    {
     "data": {
      "text/plain": [
       "<bound method Series.unique of 0                     [21st century insurance]\n",
       "1                                [3d networks]\n",
       "2                                      [3dphy]\n",
       "3                                        [3lm]\n",
       "4                                         [3m]\n",
       "                         ...                  \n",
       "7457                 [mind spark technologies]\n",
       "7458                        [jataayu software]\n",
       "7459     [informix, informix software india .]\n",
       "7460                   [carpe diem, carpediem]\n",
       "7461    [national bureau of economic research]\n",
       "Name: companyName, Length: 7462, dtype: object>"
      ]
     },
     "execution_count": 6,
     "metadata": {},
     "output_type": "execute_result"
    }
   ],
   "source": [
    "df[\"companyName\"].unique"
   ]
  },
  {
   "cell_type": "markdown",
   "id": "b5c77e7b",
   "metadata": {},
   "source": [
    "As it has 7462 unique Comapnies which is equal to number of rows in the dataframe. So we shouldnt remove the any row in the dataframe because each column is necessary.\n"
   ]
  },
  {
   "cell_type": "markdown",
   "id": "1abf06a2",
   "metadata": {},
   "source": [
    "Creating New Columns"
   ]
  },
  {
   "cell_type": "markdown",
   "id": "4646244a",
   "metadata": {},
   "source": [
    "As some of the columns have data which need to be changed into appropriate type, so that it will be useful for the analysis and also create some new columns by extracting the data from the present columns"
   ]
  },
  {
   "cell_type": "code",
   "execution_count": 7,
   "id": "f6f4c5bc",
   "metadata": {},
   "outputs": [],
   "source": [
    "#Converting the companyName from list to the string type\n",
    "df[\"companyName\"] = df[\"companyName\"].apply(lambda x:x[0])"
   ]
  },
  {
   "cell_type": "code",
   "execution_count": 8,
   "id": "77d93529",
   "metadata": {},
   "outputs": [],
   "source": [
    "#Creating new column from the _id column\n",
    "df[\"id\"] = 0"
   ]
  },
  {
   "cell_type": "code",
   "execution_count": 9,
   "id": "580e4e8a",
   "metadata": {},
   "outputs": [],
   "source": [
    "for i in range(len(df)):\n",
    "    df[\"id\"][i] = df[\"_id\"][i].get('$oid')"
   ]
  },
  {
   "cell_type": "code",
   "execution_count": 10,
   "id": "ad56df65",
   "metadata": {},
   "outputs": [],
   "source": [
    "#Creating new column from the UpdateOn column\n",
    "df[\"UpdatedDate\"] = 0"
   ]
  },
  {
   "cell_type": "code",
   "execution_count": 11,
   "id": "b715c991",
   "metadata": {
    "scrolled": true
   },
   "outputs": [],
   "source": [
    "for i in range(len(df)):\n",
    "    if not isinstance(df[\"UpdatedOn\"][i],float):\n",
    "        df[\"UpdatedDate\"][i] = df[\"UpdatedOn\"][i].get('$date')"
   ]
  },
  {
   "cell_type": "code",
   "execution_count": 12,
   "id": "4cdb2880",
   "metadata": {},
   "outputs": [],
   "source": [
    "from datetime import datetime\n",
    "for i in range(len(df)):\n",
    "    if isinstance(df[\"UpdatedDate\"][i],str):\n",
    "        date_string = df[\"UpdatedDate\"][i]\n",
    "        datetime_obj = datetime.fromisoformat(date_string[:-1])\n",
    "        formatted_date_time = datetime_obj.strftime(\"%Y-%m-%d %H:%M:%S\")\n",
    "        df[\"UpdatedDate\"][i] = formatted_date_time"
   ]
  },
  {
   "cell_type": "code",
   "execution_count": 13,
   "id": "f3355383",
   "metadata": {},
   "outputs": [],
   "source": [
    "#Creating max and min employee column from the employeenumber column\n",
    "df[\"maxemployee\"] = 0\n",
    "df[\"minemployee\"] = 0"
   ]
  },
  {
   "cell_type": "code",
   "execution_count": 14,
   "id": "dbeee618",
   "metadata": {},
   "outputs": [],
   "source": [
    "for i in range(len(df)):\n",
    "    if not isinstance(df[\"employeeNumber\"][i],float):\n",
    "        df[\"maxemployee\"][i] = df[\"employeeNumber\"][i].get('max')"
   ]
  },
  {
   "cell_type": "code",
   "execution_count": 15,
   "id": "d8d50f65",
   "metadata": {},
   "outputs": [],
   "source": [
    "for i in range(len(df)):\n",
    "    if not isinstance(df[\"employeeNumber\"][i],float):\n",
    "        df[\"minemployee\"][i] = df[\"employeeNumber\"][i].get('min')"
   ]
  },
  {
   "cell_type": "code",
   "execution_count": 16,
   "id": "f1a2fb1d",
   "metadata": {},
   "outputs": [],
   "source": [
    "#Creating the foundDaten column from the foundDate column\n",
    "df[\"foundDate\"] = 0"
   ]
  },
  {
   "cell_type": "code",
   "execution_count": 17,
   "id": "b5636aac",
   "metadata": {},
   "outputs": [],
   "source": [
    "for i in range(len(df)):\n",
    "    if not isinstance(df[\"foundedDate\"][i],float):\n",
    "        df[\"foundDate\"][i] = df[\"foundedDate\"][i].get('$date')"
   ]
  },
  {
   "cell_type": "code",
   "execution_count": 18,
   "id": "b31dbafb",
   "metadata": {},
   "outputs": [],
   "source": [
    "for i in range(len(df)):\n",
    "    if isinstance(df[\"foundDate\"][i],str):\n",
    "        date_string = df[\"foundDate\"][i]\n",
    "        datetime_obj = datetime.fromisoformat(date_string[:-1])\n",
    "        formatted_date_time = datetime_obj.strftime(\"%Y-%m-%d %H:%M:%S\")\n",
    "        df[\"foundDate\"][i] = formatted_date_time"
   ]
  },
  {
   "cell_type": "code",
   "execution_count": 19,
   "id": "1d9df1c0",
   "metadata": {},
   "outputs": [],
   "source": [
    "from datetime import datetime,timedelta\n",
    "for i in range(len(df)):\n",
    "    if isinstance(df[\"foundDate\"][i],dict):\n",
    "        \n",
    "        timestamp_milliseconds = df[\"foundDate\"][i].get('$numberLong')\n",
    "\n",
    "        unix_epoch = datetime(1950, 1, 1)\n",
    "        adjusted_datetime = unix_epoch + timedelta(milliseconds=abs(int(timestamp_milliseconds)))\n",
    "        \n",
    "        # format datetime object as string\n",
    "        formatted_date_time = adjusted_datetime.strftime(\"%Y-%m-%d %H:%M:%S\")\n",
    "\n",
    "        df[\"foundDate\"][i] = formatted_date_time"
   ]
  },
  {
   "cell_type": "code",
   "execution_count": 20,
   "id": "28080ac7",
   "metadata": {},
   "outputs": [],
   "source": [
    "#Extracting only date from the foundDate column\n",
    "df[\"foundDate_ymd\"] = 0"
   ]
  },
  {
   "cell_type": "code",
   "execution_count": 21,
   "id": "6c5ddcf6",
   "metadata": {},
   "outputs": [],
   "source": [
    "for i in range(len(df)):\n",
    "    if isinstance(df[\"foundDate\"][i],str):\n",
    "        df[\"foundDate_ymd\"][i] = df[\"foundDate\"][i].split(\" \")[0]"
   ]
  },
  {
   "cell_type": "code",
   "execution_count": 22,
   "id": "7ce9e8c1",
   "metadata": {},
   "outputs": [],
   "source": [
    "#Extracting only date from the UpdateDate column\n",
    "df[\"UpdateDate_ymd\"] = 0"
   ]
  },
  {
   "cell_type": "code",
   "execution_count": 23,
   "id": "a05e75b7",
   "metadata": {},
   "outputs": [],
   "source": [
    "for i in range(len(df)):\n",
    "    if isinstance(df[\"UpdatedDate\"][i],str):\n",
    "        df[\"UpdateDate_ymd\"][i] = df[\"UpdatedDate\"][i].split(\" \")[0]"
   ]
  },
  {
   "cell_type": "code",
   "execution_count": 24,
   "id": "8b98da61",
   "metadata": {},
   "outputs": [
    {
     "data": {
      "text/html": [
       "<div>\n",
       "<style scoped>\n",
       "    .dataframe tbody tr th:only-of-type {\n",
       "        vertical-align: middle;\n",
       "    }\n",
       "\n",
       "    .dataframe tbody tr th {\n",
       "        vertical-align: top;\n",
       "    }\n",
       "\n",
       "    .dataframe thead th {\n",
       "        text-align: right;\n",
       "    }\n",
       "</style>\n",
       "<table border=\"1\" class=\"dataframe\">\n",
       "  <thead>\n",
       "    <tr style=\"text-align: right;\">\n",
       "      <th></th>\n",
       "      <th>_id</th>\n",
       "      <th>tags</th>\n",
       "      <th>companyName</th>\n",
       "      <th>domainName</th>\n",
       "      <th>crunchbase_url</th>\n",
       "      <th>TYPE</th>\n",
       "      <th>UpdatedOn</th>\n",
       "      <th>companyDesc</th>\n",
       "      <th>companyWebsite</th>\n",
       "      <th>employeeNumber</th>\n",
       "      <th>foundedDate</th>\n",
       "      <th>domain_groups</th>\n",
       "      <th>fundingList</th>\n",
       "      <th>id</th>\n",
       "      <th>UpdatedDate</th>\n",
       "      <th>maxemployee</th>\n",
       "      <th>minemployee</th>\n",
       "      <th>foundDate</th>\n",
       "      <th>foundDate_ymd</th>\n",
       "      <th>UpdateDate_ymd</th>\n",
       "    </tr>\n",
       "  </thead>\n",
       "  <tbody>\n",
       "    <tr>\n",
       "      <th>0</th>\n",
       "      <td>{'$oid': '5d09dfd68501d21d7d729bb1'}</td>\n",
       "      <td>[finance, insurance]</td>\n",
       "      <td>21st century insurance</td>\n",
       "      <td>21st</td>\n",
       "      <td>https://www.crunchbase.com/organization/21st-c...</td>\n",
       "      <td>Product-based</td>\n",
       "      <td>{'$date': '2020-01-18T03:39:34.845Z'}</td>\n",
       "      <td>since 1958, 21st century insurance has been de...</td>\n",
       "      <td>www.21st.com</td>\n",
       "      <td>{'max': 10000, 'min': 5001}</td>\n",
       "      <td>{'$date': {'$numberLong': '-378658800000'}}</td>\n",
       "      <td>{'Fintech/ Payments': 0.825334256973911, 'Insu...</td>\n",
       "      <td>NaN</td>\n",
       "      <td>5d09dfd68501d21d7d729bb1</td>\n",
       "      <td>2020-01-18 03:39:34</td>\n",
       "      <td>10000</td>\n",
       "      <td>5001</td>\n",
       "      <td>1961-12-31 15:00:00</td>\n",
       "      <td>1961-12-31</td>\n",
       "      <td>2020-01-18</td>\n",
       "    </tr>\n",
       "    <tr>\n",
       "      <th>1</th>\n",
       "      <td>{'$oid': '5d09dfd78501d21d7d729bbb'}</td>\n",
       "      <td>[3d technology]</td>\n",
       "      <td>3d networks</td>\n",
       "      <td>3dnetworks</td>\n",
       "      <td>https://www.crunchbase.com/organization/3d-net...</td>\n",
       "      <td>Product-based</td>\n",
       "      <td>{'$date': '2020-01-20T15:10:33.852Z'}</td>\n",
       "      <td>NaN</td>\n",
       "      <td>www.3dnetworks.com</td>\n",
       "      <td>NaN</td>\n",
       "      <td>{'$date': '2000-01-01T09:00:00.000Z'}</td>\n",
       "      <td>NaN</td>\n",
       "      <td>NaN</td>\n",
       "      <td>5d09dfd78501d21d7d729bbb</td>\n",
       "      <td>2020-01-20 15:10:33</td>\n",
       "      <td>0</td>\n",
       "      <td>0</td>\n",
       "      <td>2000-01-01 09:00:00</td>\n",
       "      <td>2000-01-01</td>\n",
       "      <td>2020-01-20</td>\n",
       "    </tr>\n",
       "    <tr>\n",
       "      <th>2</th>\n",
       "      <td>{'$oid': '5d09dfd78501d21d7d729bbc'}</td>\n",
       "      <td>[3d technology, augmented reality, e-commerce]</td>\n",
       "      <td>3dphy</td>\n",
       "      <td>3dphy</td>\n",
       "      <td>https://www.crunchbase.com/organization/3dphy-...</td>\n",
       "      <td>Product-based</td>\n",
       "      <td>{'$date': '2020-01-16T11:44:30.116Z'}</td>\n",
       "      <td>3dphy provides a range of 3d virtual and augme...</td>\n",
       "      <td>www.3dphy.com</td>\n",
       "      <td>{'max': 50, 'min': 11}</td>\n",
       "      <td>{'$date': '2014-11-03T09:00:00.000Z'}</td>\n",
       "      <td>NaN</td>\n",
       "      <td>[{'fundingDate': {'$date': '2014-12-18T09:00:0...</td>\n",
       "      <td>5d09dfd78501d21d7d729bbc</td>\n",
       "      <td>2020-01-16 11:44:30</td>\n",
       "      <td>50</td>\n",
       "      <td>11</td>\n",
       "      <td>2014-11-03 09:00:00</td>\n",
       "      <td>2014-11-03</td>\n",
       "      <td>2020-01-16</td>\n",
       "    </tr>\n",
       "    <tr>\n",
       "      <th>3</th>\n",
       "      <td>{'$oid': '5d09dfd78501d21d7d729bbe'}</td>\n",
       "      <td>[android, enterprise software, mobile]</td>\n",
       "      <td>3lm</td>\n",
       "      <td>3lm</td>\n",
       "      <td>https://www.crunchbase.com/organization/3lm?ut...</td>\n",
       "      <td>Product-based</td>\n",
       "      <td>{'$date': '2020-01-21T12:50:14.767Z'}</td>\n",
       "      <td>3lm has already signed deals to provide its te...</td>\n",
       "      <td>www.3lm.com</td>\n",
       "      <td>{'max': 50, 'min': 11}</td>\n",
       "      <td>{'$date': '2010-07-01T09:00:00.000Z'}</td>\n",
       "      <td>{'Developer Tools': 0.617930901407716}</td>\n",
       "      <td>[{'fundingDate': {'$date': '2010-07-01T09:00:0...</td>\n",
       "      <td>5d09dfd78501d21d7d729bbe</td>\n",
       "      <td>2020-01-21 12:50:14</td>\n",
       "      <td>50</td>\n",
       "      <td>11</td>\n",
       "      <td>2010-07-01 09:00:00</td>\n",
       "      <td>2010-07-01</td>\n",
       "      <td>2020-01-21</td>\n",
       "    </tr>\n",
       "    <tr>\n",
       "      <th>4</th>\n",
       "      <td>{'$oid': '5d09dfd78501d21d7d729bbf'}</td>\n",
       "      <td>[automotive, electronics, enterprise software]</td>\n",
       "      <td>3m</td>\n",
       "      <td>3m</td>\n",
       "      <td>https://www.crunchbase.com/organization/3m?utm...</td>\n",
       "      <td>Product-based</td>\n",
       "      <td>{'$date': '2020-01-17T17:56:53.792Z'}</td>\n",
       "      <td>3m operates as a diversified technology compan...</td>\n",
       "      <td>www.3m.com</td>\n",
       "      <td>{'max': 10001, 'min': 0}</td>\n",
       "      <td>{'$date': {'$numberLong': '-2145884400000'}}</td>\n",
       "      <td>{'Hardware': 0.6879067738004571, 'Automotive':...</td>\n",
       "      <td>NaN</td>\n",
       "      <td>5d09dfd78501d21d7d729bbf</td>\n",
       "      <td>2020-01-17 17:56:53</td>\n",
       "      <td>10001</td>\n",
       "      <td>0</td>\n",
       "      <td>2017-12-31 15:00:00</td>\n",
       "      <td>2017-12-31</td>\n",
       "      <td>2020-01-17</td>\n",
       "    </tr>\n",
       "  </tbody>\n",
       "</table>\n",
       "</div>"
      ],
      "text/plain": [
       "                                    _id  \\\n",
       "0  {'$oid': '5d09dfd68501d21d7d729bb1'}   \n",
       "1  {'$oid': '5d09dfd78501d21d7d729bbb'}   \n",
       "2  {'$oid': '5d09dfd78501d21d7d729bbc'}   \n",
       "3  {'$oid': '5d09dfd78501d21d7d729bbe'}   \n",
       "4  {'$oid': '5d09dfd78501d21d7d729bbf'}   \n",
       "\n",
       "                                             tags             companyName  \\\n",
       "0                            [finance, insurance]  21st century insurance   \n",
       "1                                 [3d technology]             3d networks   \n",
       "2  [3d technology, augmented reality, e-commerce]                   3dphy   \n",
       "3          [android, enterprise software, mobile]                     3lm   \n",
       "4  [automotive, electronics, enterprise software]                      3m   \n",
       "\n",
       "   domainName                                     crunchbase_url  \\\n",
       "0        21st  https://www.crunchbase.com/organization/21st-c...   \n",
       "1  3dnetworks  https://www.crunchbase.com/organization/3d-net...   \n",
       "2       3dphy  https://www.crunchbase.com/organization/3dphy-...   \n",
       "3         3lm  https://www.crunchbase.com/organization/3lm?ut...   \n",
       "4          3m  https://www.crunchbase.com/organization/3m?utm...   \n",
       "\n",
       "            TYPE                              UpdatedOn  \\\n",
       "0  Product-based  {'$date': '2020-01-18T03:39:34.845Z'}   \n",
       "1  Product-based  {'$date': '2020-01-20T15:10:33.852Z'}   \n",
       "2  Product-based  {'$date': '2020-01-16T11:44:30.116Z'}   \n",
       "3  Product-based  {'$date': '2020-01-21T12:50:14.767Z'}   \n",
       "4  Product-based  {'$date': '2020-01-17T17:56:53.792Z'}   \n",
       "\n",
       "                                         companyDesc      companyWebsite  \\\n",
       "0  since 1958, 21st century insurance has been de...        www.21st.com   \n",
       "1                                                NaN  www.3dnetworks.com   \n",
       "2  3dphy provides a range of 3d virtual and augme...       www.3dphy.com   \n",
       "3  3lm has already signed deals to provide its te...         www.3lm.com   \n",
       "4  3m operates as a diversified technology compan...          www.3m.com   \n",
       "\n",
       "                employeeNumber                                   foundedDate  \\\n",
       "0  {'max': 10000, 'min': 5001}   {'$date': {'$numberLong': '-378658800000'}}   \n",
       "1                          NaN         {'$date': '2000-01-01T09:00:00.000Z'}   \n",
       "2       {'max': 50, 'min': 11}         {'$date': '2014-11-03T09:00:00.000Z'}   \n",
       "3       {'max': 50, 'min': 11}         {'$date': '2010-07-01T09:00:00.000Z'}   \n",
       "4     {'max': 10001, 'min': 0}  {'$date': {'$numberLong': '-2145884400000'}}   \n",
       "\n",
       "                                       domain_groups  \\\n",
       "0  {'Fintech/ Payments': 0.825334256973911, 'Insu...   \n",
       "1                                                NaN   \n",
       "2                                                NaN   \n",
       "3             {'Developer Tools': 0.617930901407716}   \n",
       "4  {'Hardware': 0.6879067738004571, 'Automotive':...   \n",
       "\n",
       "                                         fundingList  \\\n",
       "0                                                NaN   \n",
       "1                                                NaN   \n",
       "2  [{'fundingDate': {'$date': '2014-12-18T09:00:0...   \n",
       "3  [{'fundingDate': {'$date': '2010-07-01T09:00:0...   \n",
       "4                                                NaN   \n",
       "\n",
       "                         id          UpdatedDate  maxemployee  minemployee  \\\n",
       "0  5d09dfd68501d21d7d729bb1  2020-01-18 03:39:34        10000         5001   \n",
       "1  5d09dfd78501d21d7d729bbb  2020-01-20 15:10:33            0            0   \n",
       "2  5d09dfd78501d21d7d729bbc  2020-01-16 11:44:30           50           11   \n",
       "3  5d09dfd78501d21d7d729bbe  2020-01-21 12:50:14           50           11   \n",
       "4  5d09dfd78501d21d7d729bbf  2020-01-17 17:56:53        10001            0   \n",
       "\n",
       "             foundDate foundDate_ymd UpdateDate_ymd  \n",
       "0  1961-12-31 15:00:00    1961-12-31     2020-01-18  \n",
       "1  2000-01-01 09:00:00    2000-01-01     2020-01-20  \n",
       "2  2014-11-03 09:00:00    2014-11-03     2020-01-16  \n",
       "3  2010-07-01 09:00:00    2010-07-01     2020-01-21  \n",
       "4  2017-12-31 15:00:00    2017-12-31     2020-01-17  "
      ]
     },
     "execution_count": 24,
     "metadata": {},
     "output_type": "execute_result"
    }
   ],
   "source": [
    "df.head()"
   ]
  },
  {
   "cell_type": "code",
   "execution_count": 25,
   "id": "02d120ad",
   "metadata": {},
   "outputs": [],
   "source": [
    "#Creating the new dataframe by dropping the previous columns i.e from which the data is extarcted\n",
    "df1 = df.drop(columns = [\"_id\",\"UpdatedOn\",\"employeeNumber\",\"foundedDate\"])"
   ]
  },
  {
   "cell_type": "markdown",
   "id": "1e1fe5ec",
   "metadata": {},
   "source": [
    "### 1.Return the Competitors of the company"
   ]
  },
  {
   "cell_type": "markdown",
   "id": "a64bea05",
   "metadata": {},
   "source": [
    "To find the competitors of the Company,first we will find in which domain the company is present i.e from the tags. Then using those tags traverse all the company domains and print those comapnies\n"
   ]
  },
  {
   "cell_type": "markdown",
   "id": "3ba51576",
   "metadata": {},
   "source": [
    "The other way is to find by using the domain_groups but it has more null values. so it cant be used for the analysis"
   ]
  },
  {
   "cell_type": "markdown",
   "id": "4d4a3f9d",
   "metadata": {},
   "source": [
    "The tags column is used to as the primary column for this, so we will remove the null values in this row and store in the separate dataframe"
   ]
  },
  {
   "cell_type": "code",
   "execution_count": 26,
   "id": "8222ed60",
   "metadata": {},
   "outputs": [
    {
     "data": {
      "text/html": [
       "<div>\n",
       "<style scoped>\n",
       "    .dataframe tbody tr th:only-of-type {\n",
       "        vertical-align: middle;\n",
       "    }\n",
       "\n",
       "    .dataframe tbody tr th {\n",
       "        vertical-align: top;\n",
       "    }\n",
       "\n",
       "    .dataframe thead th {\n",
       "        text-align: right;\n",
       "    }\n",
       "</style>\n",
       "<table border=\"1\" class=\"dataframe\">\n",
       "  <thead>\n",
       "    <tr style=\"text-align: right;\">\n",
       "      <th></th>\n",
       "      <th>tags</th>\n",
       "      <th>companyName</th>\n",
       "      <th>domainName</th>\n",
       "      <th>crunchbase_url</th>\n",
       "      <th>TYPE</th>\n",
       "      <th>companyDesc</th>\n",
       "      <th>companyWebsite</th>\n",
       "      <th>domain_groups</th>\n",
       "      <th>fundingList</th>\n",
       "      <th>id</th>\n",
       "      <th>UpdatedDate</th>\n",
       "      <th>maxemployee</th>\n",
       "      <th>minemployee</th>\n",
       "      <th>foundDate</th>\n",
       "      <th>foundDate_ymd</th>\n",
       "      <th>UpdateDate_ymd</th>\n",
       "    </tr>\n",
       "  </thead>\n",
       "  <tbody>\n",
       "    <tr>\n",
       "      <th>0</th>\n",
       "      <td>[finance, insurance]</td>\n",
       "      <td>21st century insurance</td>\n",
       "      <td>21st</td>\n",
       "      <td>https://www.crunchbase.com/organization/21st-c...</td>\n",
       "      <td>Product-based</td>\n",
       "      <td>since 1958, 21st century insurance has been de...</td>\n",
       "      <td>www.21st.com</td>\n",
       "      <td>{'Fintech/ Payments': 0.825334256973911, 'Insu...</td>\n",
       "      <td>NaN</td>\n",
       "      <td>5d09dfd68501d21d7d729bb1</td>\n",
       "      <td>2020-01-18 03:39:34</td>\n",
       "      <td>10000</td>\n",
       "      <td>5001</td>\n",
       "      <td>1961-12-31 15:00:00</td>\n",
       "      <td>1961-12-31</td>\n",
       "      <td>2020-01-18</td>\n",
       "    </tr>\n",
       "    <tr>\n",
       "      <th>1</th>\n",
       "      <td>[3d technology]</td>\n",
       "      <td>3d networks</td>\n",
       "      <td>3dnetworks</td>\n",
       "      <td>https://www.crunchbase.com/organization/3d-net...</td>\n",
       "      <td>Product-based</td>\n",
       "      <td>NaN</td>\n",
       "      <td>www.3dnetworks.com</td>\n",
       "      <td>NaN</td>\n",
       "      <td>NaN</td>\n",
       "      <td>5d09dfd78501d21d7d729bbb</td>\n",
       "      <td>2020-01-20 15:10:33</td>\n",
       "      <td>0</td>\n",
       "      <td>0</td>\n",
       "      <td>2000-01-01 09:00:00</td>\n",
       "      <td>2000-01-01</td>\n",
       "      <td>2020-01-20</td>\n",
       "    </tr>\n",
       "    <tr>\n",
       "      <th>2</th>\n",
       "      <td>[3d technology, augmented reality, e-commerce]</td>\n",
       "      <td>3dphy</td>\n",
       "      <td>3dphy</td>\n",
       "      <td>https://www.crunchbase.com/organization/3dphy-...</td>\n",
       "      <td>Product-based</td>\n",
       "      <td>3dphy provides a range of 3d virtual and augme...</td>\n",
       "      <td>www.3dphy.com</td>\n",
       "      <td>NaN</td>\n",
       "      <td>[{'fundingDate': {'$date': '2014-12-18T09:00:0...</td>\n",
       "      <td>5d09dfd78501d21d7d729bbc</td>\n",
       "      <td>2020-01-16 11:44:30</td>\n",
       "      <td>50</td>\n",
       "      <td>11</td>\n",
       "      <td>2014-11-03 09:00:00</td>\n",
       "      <td>2014-11-03</td>\n",
       "      <td>2020-01-16</td>\n",
       "    </tr>\n",
       "    <tr>\n",
       "      <th>3</th>\n",
       "      <td>[android, enterprise software, mobile]</td>\n",
       "      <td>3lm</td>\n",
       "      <td>3lm</td>\n",
       "      <td>https://www.crunchbase.com/organization/3lm?ut...</td>\n",
       "      <td>Product-based</td>\n",
       "      <td>3lm has already signed deals to provide its te...</td>\n",
       "      <td>www.3lm.com</td>\n",
       "      <td>{'Developer Tools': 0.617930901407716}</td>\n",
       "      <td>[{'fundingDate': {'$date': '2010-07-01T09:00:0...</td>\n",
       "      <td>5d09dfd78501d21d7d729bbe</td>\n",
       "      <td>2020-01-21 12:50:14</td>\n",
       "      <td>50</td>\n",
       "      <td>11</td>\n",
       "      <td>2010-07-01 09:00:00</td>\n",
       "      <td>2010-07-01</td>\n",
       "      <td>2020-01-21</td>\n",
       "    </tr>\n",
       "    <tr>\n",
       "      <th>4</th>\n",
       "      <td>[automotive, electronics, enterprise software]</td>\n",
       "      <td>3m</td>\n",
       "      <td>3m</td>\n",
       "      <td>https://www.crunchbase.com/organization/3m?utm...</td>\n",
       "      <td>Product-based</td>\n",
       "      <td>3m operates as a diversified technology compan...</td>\n",
       "      <td>www.3m.com</td>\n",
       "      <td>{'Hardware': 0.6879067738004571, 'Automotive':...</td>\n",
       "      <td>NaN</td>\n",
       "      <td>5d09dfd78501d21d7d729bbf</td>\n",
       "      <td>2020-01-17 17:56:53</td>\n",
       "      <td>10001</td>\n",
       "      <td>0</td>\n",
       "      <td>2017-12-31 15:00:00</td>\n",
       "      <td>2017-12-31</td>\n",
       "      <td>2020-01-17</td>\n",
       "    </tr>\n",
       "    <tr>\n",
       "      <th>...</th>\n",
       "      <td>...</td>\n",
       "      <td>...</td>\n",
       "      <td>...</td>\n",
       "      <td>...</td>\n",
       "      <td>...</td>\n",
       "      <td>...</td>\n",
       "      <td>...</td>\n",
       "      <td>...</td>\n",
       "      <td>...</td>\n",
       "      <td>...</td>\n",
       "      <td>...</td>\n",
       "      <td>...</td>\n",
       "      <td>...</td>\n",
       "      <td>...</td>\n",
       "      <td>...</td>\n",
       "      <td>...</td>\n",
       "    </tr>\n",
       "    <tr>\n",
       "      <th>7457</th>\n",
       "      <td>[business development, digital marketing, ios,...</td>\n",
       "      <td>mind spark technologies</td>\n",
       "      <td>mindsparktechnologies</td>\n",
       "      <td>https://www.crunchbase.com/organization/mind-s...</td>\n",
       "      <td>NaN</td>\n",
       "      <td>mind spark technologies is one of the world&amp;#0...</td>\n",
       "      <td>www.mindsparktechnologies.com/</td>\n",
       "      <td>NaN</td>\n",
       "      <td>NaN</td>\n",
       "      <td>5e4a721d6a9636171e7a618b</td>\n",
       "      <td>2020-02-17 10:59:41</td>\n",
       "      <td>50</td>\n",
       "      <td>11</td>\n",
       "      <td>2013-02-05 09:00:00</td>\n",
       "      <td>2013-02-05</td>\n",
       "      <td>2020-02-17</td>\n",
       "    </tr>\n",
       "    <tr>\n",
       "      <th>7458</th>\n",
       "      <td>[messaging, mobile, software, telecommunicatio...</td>\n",
       "      <td>jataayu software</td>\n",
       "      <td>jataayusoft</td>\n",
       "      <td>https://www.crunchbase.com/organization/jataay...</td>\n",
       "      <td>NaN</td>\n",
       "      <td>a leading provider of products and solutions f...</td>\n",
       "      <td>www.jataayusoft.com</td>\n",
       "      <td>{}</td>\n",
       "      <td>NaN</td>\n",
       "      <td>5e4a721e6a9636171e7a618d</td>\n",
       "      <td>2020-02-17 10:59:42</td>\n",
       "      <td>500</td>\n",
       "      <td>251</td>\n",
       "      <td>2000-01-01 09:00:00</td>\n",
       "      <td>2000-01-01</td>\n",
       "      <td>2020-02-17</td>\n",
       "    </tr>\n",
       "    <tr>\n",
       "      <th>7459</th>\n",
       "      <td>[internet, software]</td>\n",
       "      <td>informix</td>\n",
       "      <td>informix</td>\n",
       "      <td>https://www.crunchbase.com/organization/informix</td>\n",
       "      <td>NaN</td>\n",
       "      <td>informix provides database management systems ...</td>\n",
       "      <td>www.informix.com</td>\n",
       "      <td>NaN</td>\n",
       "      <td>NaN</td>\n",
       "      <td>5e4a721f6a9636171e7a6197</td>\n",
       "      <td>2020-02-17 10:59:43</td>\n",
       "      <td>10001</td>\n",
       "      <td>0</td>\n",
       "      <td>2023-12-31 15:00:00</td>\n",
       "      <td>2023-12-31</td>\n",
       "      <td>2020-02-17</td>\n",
       "    </tr>\n",
       "    <tr>\n",
       "      <th>7460</th>\n",
       "      <td>[advertising, brand marketing, e-commerce, mar...</td>\n",
       "      <td>carpe diem</td>\n",
       "      <td>carpe-diem</td>\n",
       "      <td>https://www.crunchbase.com/organization/carpe-...</td>\n",
       "      <td>NaN</td>\n",
       "      <td>we specialist in website design and developmen...</td>\n",
       "      <td>www.carpe-diem.co.uk</td>\n",
       "      <td>{'Martech': 0.860730265236547}</td>\n",
       "      <td>NaN</td>\n",
       "      <td>5e4a72236a9636171e7a61c7</td>\n",
       "      <td>2020-02-17 10:59:47</td>\n",
       "      <td>10</td>\n",
       "      <td>1</td>\n",
       "      <td>1999-11-03 09:00:00</td>\n",
       "      <td>1999-11-03</td>\n",
       "      <td>2020-02-17</td>\n",
       "    </tr>\n",
       "    <tr>\n",
       "      <th>7461</th>\n",
       "      <td>[search engine]</td>\n",
       "      <td>national bureau of economic research</td>\n",
       "      <td>nber</td>\n",
       "      <td>https://www.crunchbase.com/organization/nation...</td>\n",
       "      <td>NaN</td>\n",
       "      <td>the national bureau of economic research is a ...</td>\n",
       "      <td>www.nber.org</td>\n",
       "      <td>NaN</td>\n",
       "      <td>NaN</td>\n",
       "      <td>5e4a72246a9636171e7a61cb</td>\n",
       "      <td>2020-02-17 10:59:48</td>\n",
       "      <td>1000</td>\n",
       "      <td>501</td>\n",
       "      <td>2000-01-01 15:00:00</td>\n",
       "      <td>2000-01-01</td>\n",
       "      <td>2020-02-17</td>\n",
       "    </tr>\n",
       "  </tbody>\n",
       "</table>\n",
       "<p>7397 rows × 16 columns</p>\n",
       "</div>"
      ],
      "text/plain": [
       "                                                   tags  \\\n",
       "0                                  [finance, insurance]   \n",
       "1                                       [3d technology]   \n",
       "2        [3d technology, augmented reality, e-commerce]   \n",
       "3                [android, enterprise software, mobile]   \n",
       "4        [automotive, electronics, enterprise software]   \n",
       "...                                                 ...   \n",
       "7457  [business development, digital marketing, ios,...   \n",
       "7458  [messaging, mobile, software, telecommunicatio...   \n",
       "7459                               [internet, software]   \n",
       "7460  [advertising, brand marketing, e-commerce, mar...   \n",
       "7461                                    [search engine]   \n",
       "\n",
       "                               companyName             domainName  \\\n",
       "0                   21st century insurance                   21st   \n",
       "1                              3d networks             3dnetworks   \n",
       "2                                    3dphy                  3dphy   \n",
       "3                                      3lm                    3lm   \n",
       "4                                       3m                     3m   \n",
       "...                                    ...                    ...   \n",
       "7457               mind spark technologies  mindsparktechnologies   \n",
       "7458                      jataayu software            jataayusoft   \n",
       "7459                              informix               informix   \n",
       "7460                            carpe diem             carpe-diem   \n",
       "7461  national bureau of economic research                   nber   \n",
       "\n",
       "                                         crunchbase_url           TYPE  \\\n",
       "0     https://www.crunchbase.com/organization/21st-c...  Product-based   \n",
       "1     https://www.crunchbase.com/organization/3d-net...  Product-based   \n",
       "2     https://www.crunchbase.com/organization/3dphy-...  Product-based   \n",
       "3     https://www.crunchbase.com/organization/3lm?ut...  Product-based   \n",
       "4     https://www.crunchbase.com/organization/3m?utm...  Product-based   \n",
       "...                                                 ...            ...   \n",
       "7457  https://www.crunchbase.com/organization/mind-s...            NaN   \n",
       "7458  https://www.crunchbase.com/organization/jataay...            NaN   \n",
       "7459   https://www.crunchbase.com/organization/informix            NaN   \n",
       "7460  https://www.crunchbase.com/organization/carpe-...            NaN   \n",
       "7461  https://www.crunchbase.com/organization/nation...            NaN   \n",
       "\n",
       "                                            companyDesc  \\\n",
       "0     since 1958, 21st century insurance has been de...   \n",
       "1                                                   NaN   \n",
       "2     3dphy provides a range of 3d virtual and augme...   \n",
       "3     3lm has already signed deals to provide its te...   \n",
       "4     3m operates as a diversified technology compan...   \n",
       "...                                                 ...   \n",
       "7457  mind spark technologies is one of the world&#0...   \n",
       "7458  a leading provider of products and solutions f...   \n",
       "7459  informix provides database management systems ...   \n",
       "7460  we specialist in website design and developmen...   \n",
       "7461  the national bureau of economic research is a ...   \n",
       "\n",
       "                      companyWebsite  \\\n",
       "0                       www.21st.com   \n",
       "1                 www.3dnetworks.com   \n",
       "2                      www.3dphy.com   \n",
       "3                        www.3lm.com   \n",
       "4                         www.3m.com   \n",
       "...                              ...   \n",
       "7457  www.mindsparktechnologies.com/   \n",
       "7458             www.jataayusoft.com   \n",
       "7459                www.informix.com   \n",
       "7460            www.carpe-diem.co.uk   \n",
       "7461                    www.nber.org   \n",
       "\n",
       "                                          domain_groups  \\\n",
       "0     {'Fintech/ Payments': 0.825334256973911, 'Insu...   \n",
       "1                                                   NaN   \n",
       "2                                                   NaN   \n",
       "3                {'Developer Tools': 0.617930901407716}   \n",
       "4     {'Hardware': 0.6879067738004571, 'Automotive':...   \n",
       "...                                                 ...   \n",
       "7457                                                NaN   \n",
       "7458                                                 {}   \n",
       "7459                                                NaN   \n",
       "7460                     {'Martech': 0.860730265236547}   \n",
       "7461                                                NaN   \n",
       "\n",
       "                                            fundingList  \\\n",
       "0                                                   NaN   \n",
       "1                                                   NaN   \n",
       "2     [{'fundingDate': {'$date': '2014-12-18T09:00:0...   \n",
       "3     [{'fundingDate': {'$date': '2010-07-01T09:00:0...   \n",
       "4                                                   NaN   \n",
       "...                                                 ...   \n",
       "7457                                                NaN   \n",
       "7458                                                NaN   \n",
       "7459                                                NaN   \n",
       "7460                                                NaN   \n",
       "7461                                                NaN   \n",
       "\n",
       "                            id          UpdatedDate  maxemployee  minemployee  \\\n",
       "0     5d09dfd68501d21d7d729bb1  2020-01-18 03:39:34        10000         5001   \n",
       "1     5d09dfd78501d21d7d729bbb  2020-01-20 15:10:33            0            0   \n",
       "2     5d09dfd78501d21d7d729bbc  2020-01-16 11:44:30           50           11   \n",
       "3     5d09dfd78501d21d7d729bbe  2020-01-21 12:50:14           50           11   \n",
       "4     5d09dfd78501d21d7d729bbf  2020-01-17 17:56:53        10001            0   \n",
       "...                        ...                  ...          ...          ...   \n",
       "7457  5e4a721d6a9636171e7a618b  2020-02-17 10:59:41           50           11   \n",
       "7458  5e4a721e6a9636171e7a618d  2020-02-17 10:59:42          500          251   \n",
       "7459  5e4a721f6a9636171e7a6197  2020-02-17 10:59:43        10001            0   \n",
       "7460  5e4a72236a9636171e7a61c7  2020-02-17 10:59:47           10            1   \n",
       "7461  5e4a72246a9636171e7a61cb  2020-02-17 10:59:48         1000          501   \n",
       "\n",
       "                foundDate foundDate_ymd UpdateDate_ymd  \n",
       "0     1961-12-31 15:00:00    1961-12-31     2020-01-18  \n",
       "1     2000-01-01 09:00:00    2000-01-01     2020-01-20  \n",
       "2     2014-11-03 09:00:00    2014-11-03     2020-01-16  \n",
       "3     2010-07-01 09:00:00    2010-07-01     2020-01-21  \n",
       "4     2017-12-31 15:00:00    2017-12-31     2020-01-17  \n",
       "...                   ...           ...            ...  \n",
       "7457  2013-02-05 09:00:00    2013-02-05     2020-02-17  \n",
       "7458  2000-01-01 09:00:00    2000-01-01     2020-02-17  \n",
       "7459  2023-12-31 15:00:00    2023-12-31     2020-02-17  \n",
       "7460  1999-11-03 09:00:00    1999-11-03     2020-02-17  \n",
       "7461  2000-01-01 15:00:00    2000-01-01     2020-02-17  \n",
       "\n",
       "[7397 rows x 16 columns]"
      ]
     },
     "execution_count": 26,
     "metadata": {},
     "output_type": "execute_result"
    }
   ],
   "source": [
    "#Dropping the rows which have null values in the tags columnn\n",
    "df2 = df1.dropna(subset = ['tags'])\n",
    "df2"
   ]
  },
  {
   "cell_type": "code",
   "execution_count": 27,
   "id": "54dcbb6c",
   "metadata": {},
   "outputs": [
    {
     "name": "stdout",
     "output_type": "stream",
     "text": [
      "Enter the company name:\n"
     ]
    }
   ],
   "source": [
    "#Enter the company for which we need to find the competitors\n",
    "company_name = input(\"Enter the company name:\" )"
   ]
  },
  {
   "cell_type": "code",
   "execution_count": 28,
   "id": "d4d4d2df",
   "metadata": {},
   "outputs": [],
   "source": [
    "#Finding the company\n",
    "Company_row= df1[df1['companyName'].apply(lambda x: company_name in x)]"
   ]
  },
  {
   "cell_type": "code",
   "execution_count": 29,
   "id": "5be2510a",
   "metadata": {},
   "outputs": [],
   "source": [
    "#Extracting the tags of the comapny\n",
    "tags_list = Company_row.loc[Company_row.index[0], 'tags']"
   ]
  },
  {
   "cell_type": "code",
   "execution_count": 30,
   "id": "cc095d73",
   "metadata": {},
   "outputs": [
    {
     "data": {
      "text/plain": [
       "['finance', 'insurance']"
      ]
     },
     "execution_count": 30,
     "metadata": {},
     "output_type": "execute_result"
    }
   ],
   "source": [
    "tags_list"
   ]
  },
  {
   "cell_type": "code",
   "execution_count": 31,
   "id": "c664dba8",
   "metadata": {},
   "outputs": [],
   "source": [
    "Competitors = []"
   ]
  },
  {
   "cell_type": "code",
   "execution_count": 32,
   "id": "3a85aee7",
   "metadata": {},
   "outputs": [],
   "source": [
    "for index,row in df2.iterrows():\n",
    "    tags = row['tags']\n",
    "    company = row['companyName']\n",
    "    for x in tags:\n",
    "        contains = any(x in item for item in tags_list)\n",
    "        if contains:\n",
    "            Competitors.append(company)\n",
    "            break\n"
   ]
  },
  {
   "cell_type": "code",
   "execution_count": 33,
   "id": "3c6b91c6",
   "metadata": {},
   "outputs": [
    {
     "name": "stdout",
     "output_type": "stream",
     "text": [
      "The Competitors of the Company are: ['21st century insurance', 'aci a verisk company', 'aplazame', 'applied data finance', 'acko', 'ameritas', 'aig property casualty apac region', 'allstate solutions', 'apnaloancom', 'aia australia', 'apttus', '2ndquadrant', 'anthem inc', '36氪36krcom', 'angel broking', 'griffin travel pte singapore asia pacific anz', 'adexa', 'aerojet rocketdyne', 'a blockchain cryptocurrency company', 'american expess', 'ameriprise financial services inc', 'allianz global corporate specialty agcs', 'ally', 'asx', 'bharti', 'boardex', 'capital one', 'axa advisors llc', 'bdo india llp', 'aureus analytics', 'bajaj auto finance', 'bcbsnc', 'charles schwab', 'awpl automated workflow', 'bandhan bank', 'bloomberg lp', 'britannia industries', 'cis by deloitte', 'cit', 'assurant', 'axtria ingenious insights', 'bankbazaar', 'bankerbay', 'chartis', 'bank of ireland', 'axis capital', 'betterment', 'capital financial group inc', 'atma education', 'blackrock', 'cassiopae', 'cgi information systems and management consultants', 'aspada investments', 'asian development bank adb', 'asurion', 'atb financial', 'blackhawk network', 'churchill insurance', 'circle', 'axis bank', 'avendus capital', 'bnp paribas', 'broadridge', 'cimb', 'azuga inc', 'capco', 'capita india', 'cna insurance', 'credit karma', 'dealertrack', 'cleantech open', 'cme group', 'cohnreznick llp', 'cover genius', 'croudify', 'digital harbor', 'dboi global services', 'daimler singapore', 'computershare', 'coupa software', 'countrywide', 'crisil infrasturcture advisory', 'commerzbank ag', 'datatracks', 'coverfoxcom', 'futureadvisor', 'genworth financial', 'federal reserve board', 'fgb', 'finaccel', 'direct line group', 'factset', 'first republic bank', 'ge technology', 'dropio', 'edward jones', 'emergent ventures', 'etrade financial', 'ford india', 'xchanging solutions ltdnow part of dxc technology', 'everledger', 'florida blue', 'freedom mortgage', 'future generali', 'esure', 'dolcera', 'endurance international group', 'farmers insurance', 'fidessa', 'fxcm', 'east west bank', 'future group', 'finxera', 'freddie mac', 'discover financial services', 'equifax', 'flywire', 'emudhra', 'fdic', 'financial industry regulatory authority finra', 'finovera inc', 'indiaideascom billdesk', 'highmark health', 'indiafirst life', 'host analytics inc', 'hellowallet', 'humana', 'hsbc saog oman india pakistan', 'hcentive', 'indian angel network', 'icw group', 'ifmr trust', 'gm financial', 'huntington national bank', 'goldman sachs', 'harland clarke', 'homesite insurance', 'ibexi solutions', 'jackson', 'hexaware', 'icat', 'icici lombard', 'intellegrow', 'independent bank', 'innoviti payment solutions', 'intellect design arena', 'ion trading', 'global upside', 'hifx', 'hdfc life', 'ig', 'indianmoneycom', 'i2i fundingcom', 'idfc bank', 'india infoline', 'lendingkart technologies', 'khaitan co', 'macquarie bank', 'kinara capital', 'loblaw', 'lazard india', 'lendup', 'kotak securities', 'london stock exchange group lseg', 'kivaorg', 'lendingclub', 'key bank', 'lendingtree llc', 'khosla labs', 'klarna', 'kpmg advisory', 'lemnisk', 'kabbage inc', 'kkr co lp', 'loanzen', 'jp morgan', 'lodgiq', 'legal general', 'lic of india', 'manulife', 'mazars', 'monami tech', 'moneymaxph', 'murugappa group', 'northwestern mutual', 'manappuram finance', 'montek tech services', 'medi assist india', 'nordea', 'mitchell international', 'navisite', 'navigant', 'one97 communications', 'metlife', 'mobikwik', 'nationwide building society', 'max india', 'max life insurance', 'oliver wyman', 'maicoin', 'neyber', 'novus', 'milaap', 'ncr', 'nomura', 'microensure', 'neogrowth credit sme business loans', 'ondeck', 'oppenheimer co', 'mahindra finance', 'natwest solutions', 'nawah energy company', 'majescomastek', 'mastercard advisors', 'r systems', 'paypal', 'policy bazaarcom', 'quikchex', 'rbl bank', 'owned outcomes', 'payu', 'paytm', 'principal financial group', 'prudential assurance', 'rabobank', 'progressive infotech', 'pwc', 'oye loans', 'payoneer', 'poynt', 'rbs', 'pnc', 'regions financial corporation', 'schroders', 'sabb', 'scripbox', 'relecura', 'scotiabank', 'santander consumer usa', 'sg analytics', 'signalfire', 'singsavercomsg', 'sigfig', 'smartassetcom', 'santander uk', 'sequoia capital', 'rsm bird cameron', 'rocket internet se', 'reliance capital', 'santander bank na', 'satya microcapital', 'stantonchase international', 'techstars', 'temenos india', 'syb', 'tiaa', 'swiss re', 'td ameritrade', 'tesco bank', 'startup india hub', 'state farm', 'textron specialized vehicles', 'the clearing house', 'standard chartered bank scope international', 'syska gadget secure', 'teamware solutions', 'techprocess payment services', 'standard life', 'td', 'the thiel foundation', 'sway finance', 'thoughtfocus technology', 'uae exchange', 'turtlemint', 'tyfone inc', 'ujjivan financial services', 'tim group', 'tookitaki', 'trulioo', 'transamerica', 'valuefy', 'wishfincom', 'unum', 'wwwdealsofloancom', 'vccircle', 'xchanging', 'william buck', 'willis', 'vee technologies', 'usaa', 'wolters kluwer', 'unity technologies', 'vayana network', 'worldline global', 'upguard', 'us bank', 'wavecrest computing', 'wells fargo', 'wesfarmers', 'willis towers watson', 'unleash innovation lab for sdgs', 'vanguard', 'wns global services', 'yes bank', 'upstart', 'zions bank', 'bitgiving', 'mashreq bank', 'market simplified inc', 'munich re', 'century 21 judge fite', 'pierian services', 'crawford company', '10000 startups', 'bajaj auto', 'bee partners', 'credit sesame', 'bank of baroda', 'fidelity international', 'fyle', 'gic', 'evc ventures', 'fundry', 'grishin robotics', 'elara capital', 'jfdiasia', 'infuse ventures', 'fundersclub', 'inreturn', 'intellectual ventures', 'fulcrum venture india', 'kalaari capital', 'reliance idc', 'visible alpha', 'mhs capital', 'nfaktor', 'pioneer fund', 'starwood capital group', 'odessa technologies inc', 'g4s', 'mantraai', 'sosv', 'warburg pincus llc', 'protection, inc.', 'standard chartered bank', 'samara capital', 'university of warwick', 'peepul capital', 'stem lending', 'ics group', 'kstart', 'lisbon challenge', 'mumbai angels', 'zenta', 'hq', 'digit insurance', 'planetsoft', 'seedcamp', 'vizury', 'securenow insurance broker', 'internal revenue service', 'hdfc ergo general insurance company limited', 'yahoo', '(capital markets)', 'syndicate bank', 'dnb', 'jain group', 'ing vysya bank', 'guggenheim partners transparent value .', 'global financial services', 'ephesoft', 'reniso', 'al rayan bank', 'united breweries limited', 'allied insurance managers, inc.', 'state street global advisors', 'aloe private equity', 'groww', 'centrum direct', 'quantrix', 'emitac', 'jp morgan', 'sbi life', 'mortgage.com', 'idlect patent', 'career development & placement office - pgp, at indian institute of management, calcutta', 'heckyl', 'sagar twisters .', 'broadspire', 'cointribe technologies', 'guardian life', 'muthoot fincorp limited', 'ubs investment bank', 'bigcalc', 'aditya birla capital- absli', 'grant thornton us shared services', 'life insurance universal', 'aviom india housing finance', 'gallagher', 'icici prudential life insurance', 'venture market intelligence', 'finomena', 'google launchpad accelerator', 'nano', 'sageworks']\n"
     ]
    }
   ],
   "source": [
    "print(\"The Competitors of the Company are:\",Competitors)"
   ]
  },
  {
   "cell_type": "markdown",
   "id": "4b92b619",
   "metadata": {},
   "source": [
    "### 2.Fastest Growth and slow Growth"
   ]
  },
  {
   "cell_type": "markdown",
   "id": "d9a9c82d",
   "metadata": {},
   "source": [
    "To find the Fastest and Slowest Growth company in the particular domain wee will create a separate new column i.e Growth from which we will find the fatest and slowest growth companies"
   ]
  },
  {
   "cell_type": "markdown",
   "id": "0fdf5509",
   "metadata": {},
   "source": [
    "The growth is calculated as the percenateg of the number of employees in the company to the number of days. It gives the number of days it took to reach the employee strength"
   ]
  },
  {
   "cell_type": "markdown",
   "id": "0b77235f",
   "metadata": {},
   "source": [
    "Other way to do this is by using the moneyRaised and investors from the fundingList column. But it has almost 71 percent of null values, which cant be used for the analysis"
   ]
  },
  {
   "cell_type": "code",
   "execution_count": 39,
   "id": "03b7b65f",
   "metadata": {},
   "outputs": [],
   "source": [
    "#Creating the new Column Number of days \n",
    "df1[\"NumberofDays\"] = 0"
   ]
  },
  {
   "cell_type": "code",
   "execution_count": 40,
   "id": "88f83ac3",
   "metadata": {},
   "outputs": [],
   "source": [
    "from dateutil import parser\n",
    "for i in range(len(df1)):\n",
    "    if isinstance(df1[\"UpdateDate_ymd\"][i],str) and isinstance(df1[\"foundDate_ymd\"][i],str):\n",
    "        string_date1 = df1[\"UpdateDate_ymd\"][i]\n",
    "        string_date2 = df1[\"foundDate_ymd\"][i]\n",
    "        datetime1 = parser.parse(string_date1)\n",
    "        datetime2 = parser.parse(string_date2)\n",
    "        df1[\"NumberofDays\"][i] = (datetime1 - datetime2).days\n",
    "        "
   ]
  },
  {
   "cell_type": "code",
   "execution_count": 41,
   "id": "07e5adc3",
   "metadata": {},
   "outputs": [],
   "source": [
    "#Calculating the mean of the employees from the max and min columns and storing in the new column Mean_employees\n",
    "df1[\"Mean_Employees\"] = 0"
   ]
  },
  {
   "cell_type": "code",
   "execution_count": 42,
   "id": "f6ad847e",
   "metadata": {},
   "outputs": [],
   "source": [
    "for i in range(len(df)):\n",
    "    df1[\"Mean_Employees\"][i] = int((df1[\"maxemployee\"][i]+df1[\"minemployee\"][i])//2)"
   ]
  },
  {
   "cell_type": "code",
   "execution_count": 44,
   "id": "5f2a7571",
   "metadata": {},
   "outputs": [],
   "source": [
    "# Calculating the growth of each company\n",
    "df1[\"Growth\"] = round((df1[\"Mean_Employees\"]/df1[\"NumberofDays\"])*100,2)"
   ]
  },
  {
   "cell_type": "markdown",
   "id": "f84d567b",
   "metadata": {},
   "source": [
    "But some columns has the number of days as zero, which will produce the infinite growth. So we will remove those rows and create a new dataframe"
   ]
  },
  {
   "cell_type": "code",
   "execution_count": 47,
   "id": "1a895e66",
   "metadata": {},
   "outputs": [],
   "source": [
    "df3 = df1.drop(df1[df1['Growth'] == np.inf].index).reset_index(drop=True)"
   ]
  },
  {
   "cell_type": "code",
   "execution_count": 48,
   "id": "e68b5b26",
   "metadata": {},
   "outputs": [],
   "source": [
    "df3 = df3.dropna(subset = ['tags'])\n"
   ]
  },
  {
   "cell_type": "code",
   "execution_count": 49,
   "id": "43f60a1f",
   "metadata": {},
   "outputs": [
    {
     "name": "stdout",
     "output_type": "stream",
     "text": [
      "Enter the doamin:internet\n"
     ]
    }
   ],
   "source": [
    "#Enter the domain to which we need to find the fatest and slowest growth company\n",
    "domain = input(\"Enter the doamin:\")"
   ]
  },
  {
   "cell_type": "code",
   "execution_count": 50,
   "id": "d6c19684",
   "metadata": {},
   "outputs": [],
   "source": [
    "domain_tags= df3['tags'].apply(lambda x: domain in x)\n",
    "\n",
    "# create a new DataFrame with the filtered rows\n",
    "filtered_df = df3[domain_tags]\n",
    "\n",
    "# find the company with the highest growth percentage\n",
    "max_growth = filtered_df.loc[filtered_df['Growth'].idxmax(), 'companyName']\n",
    "\n",
    "# find the company with the lowest growth percentage\n",
    "min_growth = filtered_df.loc[filtered_df['Growth'].idxmin(), 'companyName']\n"
   ]
  },
  {
   "cell_type": "code",
   "execution_count": 51,
   "id": "578453de",
   "metadata": {},
   "outputs": [
    {
     "name": "stdout",
     "output_type": "stream",
     "text": [
      "Company with the highest growth: vipkid\n",
      "Company with the lowest growth: informix\n"
     ]
    }
   ],
   "source": [
    "#Printing the fastest and slowest Growth Company\n",
    "print(f\"Company with the highest growth: {max_growth}\")\n",
    "print(f\"Company with the lowest growth: {min_growth}\")"
   ]
  },
  {
   "cell_type": "code",
   "execution_count": null,
   "id": "9626e7a1",
   "metadata": {},
   "outputs": [],
   "source": []
  }
 ],
 "metadata": {
  "kernelspec": {
   "display_name": "Python 3 (ipykernel)",
   "language": "python",
   "name": "python3"
  },
  "language_info": {
   "codemirror_mode": {
    "name": "ipython",
    "version": 3
   },
   "file_extension": ".py",
   "mimetype": "text/x-python",
   "name": "python",
   "nbconvert_exporter": "python",
   "pygments_lexer": "ipython3",
   "version": "3.9.7"
  }
 },
 "nbformat": 4,
 "nbformat_minor": 5
}
